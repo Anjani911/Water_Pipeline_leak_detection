{
  "nbformat": 4,
  "nbformat_minor": 0,
  "metadata": {
    "colab": {
      "provenance": []
    },
    "kernelspec": {
      "name": "python3",
      "display_name": "Python 3"
    },
    "language_info": {
      "name": "python"
    }
  },
  "cells": [
    {
      "cell_type": "code",
      "execution_count": 20,
      "metadata": {
        "colab": {
          "base_uri": "https://localhost:8080/"
        },
        "id": "0tn6touDwD1J",
        "outputId": "1e8a4837-1837-436d-cffd-0bac3573444b"
      },
      "outputs": [
        {
          "output_type": "stream",
          "name": "stdout",
          "text": [
            "Accuracy: 0.995\n",
            "              precision    recall  f1-score   support\n",
            "\n",
            "           0       0.99      1.00      1.00       197\n",
            "           1       1.00      0.67      0.80         3\n",
            "\n",
            "    accuracy                           0.99       200\n",
            "   macro avg       1.00      0.83      0.90       200\n",
            "weighted avg       1.00      0.99      0.99       200\n",
            "\n",
            "✅ Model saved successfully!\n"
          ]
        }
      ],
      "source": [
        "import pandas as pd\n",
        "from sklearn.model_selection import train_test_split\n",
        "from sklearn.ensemble import RandomForestClassifier\n",
        "from sklearn.metrics import accuracy_score, classification_report\n",
        "import joblib\n",
        "\n",
        "\n",
        "\n",
        "df = pd.read_csv('/final_raipur_water_dataset(in).csv')\n",
        "\n",
        "X = df[['water_supplied_litres', 'water_consumed_litres', 'flowrate_lps', 'pressure_psi']]\n",
        "y = df['leak']\n",
        "\n",
        "X_train, X_test, y_train, y_test = train_test_split(X, y, test_size=0.2, random_state=42)\n",
        "\n",
        "# Initialize and train model\n",
        "model = RandomForestClassifier(n_estimators=100, random_state=42)\n",
        "model.fit(X_train, y_train)\n",
        "\n",
        "# Evaluate model\n",
        "pred = model.predict(X_test)\n",
        "print(\"Accuracy:\", accuracy_score(y_test, pred))\n",
        "print(classification_report(y_test, pred))\n",
        "\n",
        "\n",
        "joblib.dump(model, 'leak_detection_model.pkl')\n",
        "\n"
      ]
    },
    {
      "cell_type": "code",
      "source": [],
      "metadata": {
        "id": "NeMpHAGxQL98"
      },
      "execution_count": 20,
      "outputs": []
    }
  ]
}